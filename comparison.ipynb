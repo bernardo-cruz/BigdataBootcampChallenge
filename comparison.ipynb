{
 "cells": [
  {
   "cell_type": "markdown",
   "metadata": {},
   "source": [
    "# Introduction\n",
    "The aim of this script is to compare the results of the different models. \n",
    "# Comparison\n",
    "## Imports"
   ]
  },
  {
   "cell_type": "code",
   "execution_count": 1,
   "metadata": {},
   "outputs": [],
   "source": [
    "import os, glob, itertools, json\n",
    "from pathlib import Path\n",
    "\n",
    "import pandas as pd\n",
    "import numpy as np\n",
    "import matplotlib.pyplot as plt\n",
    "import seaborn as sns\n",
    "plt.rcParams['figure.figsize'] = (12, 8)\n",
    "\n",
    "import tensorflow as tf\n",
    "from tensorflow import keras\n",
    "from tensorflow.keras import layers\n",
    "from tensorflow.keras.preprocessing.image import ImageDataGenerator\n",
    "from tensorflow.keras.models import Sequential\n",
    "from tensorflow.keras.layers import Dense, Dropout, Activation, Flatten, Conv2D, MaxPooling2D\n",
    "from tensorflow.keras.callbacks import TensorBoard\n",
    "from tensorflow.keras.optimizers import RMSprop\n",
    "from tensorflow.keras.preprocessing.image import ImageDataGenerator\n",
    "\n",
    "from sklearn.metrics import confusion_matrix, classification_report\n",
    "\n",
    "# pd.set_option('display.max_columns', None)\n",
    "# pd.set_option('max_colwidth', None)\n"
   ]
  },
  {
   "cell_type": "markdown",
   "metadata": {},
   "source": [
    "## Load Data"
   ]
  },
  {
   "cell_type": "code",
   "execution_count": 2,
   "metadata": {},
   "outputs": [
    {
     "data": {
      "text/html": [
       "<div>\n",
       "<style scoped>\n",
       "    .dataframe tbody tr th:only-of-type {\n",
       "        vertical-align: middle;\n",
       "    }\n",
       "\n",
       "    .dataframe tbody tr th {\n",
       "        vertical-align: top;\n",
       "    }\n",
       "\n",
       "    .dataframe thead th {\n",
       "        text-align: right;\n",
       "    }\n",
       "</style>\n",
       "<table border=\"1\" class=\"dataframe\">\n",
       "  <thead>\n",
       "    <tr style=\"text-align: right;\">\n",
       "      <th></th>\n",
       "      <th>path_to_file</th>\n",
       "      <th>category_name</th>\n",
       "      <th>category</th>\n",
       "      <th>filename</th>\n",
       "    </tr>\n",
       "  </thead>\n",
       "  <tbody>\n",
       "    <tr>\n",
       "      <th>973</th>\n",
       "      <td>./raw_data/validation_data/dog.8356.jpg</td>\n",
       "      <td>dog</td>\n",
       "      <td>1</td>\n",
       "      <td>dog.8356.jpg</td>\n",
       "    </tr>\n",
       "    <tr>\n",
       "      <th>580</th>\n",
       "      <td>./raw_data/validation_data/cat.10716.jpg</td>\n",
       "      <td>cat</td>\n",
       "      <td>0</td>\n",
       "      <td>cat.10716.jpg</td>\n",
       "    </tr>\n",
       "    <tr>\n",
       "      <th>874</th>\n",
       "      <td>./raw_data/validation_data/cat.3145.jpg</td>\n",
       "      <td>cat</td>\n",
       "      <td>0</td>\n",
       "      <td>cat.3145.jpg</td>\n",
       "    </tr>\n",
       "    <tr>\n",
       "      <th>903</th>\n",
       "      <td>./raw_data/validation_data/cat.5643.jpg</td>\n",
       "      <td>cat</td>\n",
       "      <td>0</td>\n",
       "      <td>cat.5643.jpg</td>\n",
       "    </tr>\n",
       "    <tr>\n",
       "      <th>627</th>\n",
       "      <td>./raw_data/validation_data/cat.5225.jpg</td>\n",
       "      <td>cat</td>\n",
       "      <td>0</td>\n",
       "      <td>cat.5225.jpg</td>\n",
       "    </tr>\n",
       "  </tbody>\n",
       "</table>\n",
       "</div>"
      ],
      "text/plain": [
       "                                 path_to_file category_name category  \\\n",
       "973   ./raw_data/validation_data/dog.8356.jpg           dog        1   \n",
       "580  ./raw_data/validation_data/cat.10716.jpg           cat        0   \n",
       "874   ./raw_data/validation_data/cat.3145.jpg           cat        0   \n",
       "903   ./raw_data/validation_data/cat.5643.jpg           cat        0   \n",
       "627   ./raw_data/validation_data/cat.5225.jpg           cat        0   \n",
       "\n",
       "          filename  \n",
       "973   dog.8356.jpg  \n",
       "580  cat.10716.jpg  \n",
       "874   cat.3145.jpg  \n",
       "903   cat.5643.jpg  \n",
       "627   cat.5225.jpg  "
      ]
     },
     "execution_count": 2,
     "metadata": {},
     "output_type": "execute_result"
    }
   ],
   "source": [
    "# Load test validation data\n",
    "path = Path('./raw_data/validation_data/')\n",
    "# Create dataframe\n",
    "df = pd.DataFrame()\n",
    "# Encoding labels\n",
    "label_encoding = {'0':'cat', '1':'dog'}\n",
    "# Add columns\n",
    "df = (df\n",
    "    .assign(path_to_file = ['./' + str(path) + '/' + f for f in os.listdir(path)])\n",
    "    .assign(category_name = lambda x: x.path_to_file.str.split('/').str[-1].str.split('.').str[0])\n",
    "    .assign(category = lambda x: \n",
    "        np.where(x.path_to_file.str.split('/').str[-1].str.split('.').str[0] == 'cat', '0', '1')\n",
    "    )\n",
    "    .assign(filename = lambda x: x.path_to_file.str.split('/').str[-1])\n",
    ")\n",
    "\n",
    "df.sample(5)"
   ]
  },
  {
   "cell_type": "code",
   "execution_count": 3,
   "metadata": {},
   "outputs": [
    {
     "data": {
      "text/plain": [
       "cat    496\n",
       "dog    489\n",
       "Name: category_name, dtype: int64"
      ]
     },
     "execution_count": 3,
     "metadata": {},
     "output_type": "execute_result"
    }
   ],
   "source": [
    "df.category_name.value_counts()"
   ]
  },
  {
   "cell_type": "markdown",
   "metadata": {},
   "source": [
    "The validation data consists of `496` (cats) and `489` (dogs) images. This images have never been seen during training and are therefore used in order to compare the results of the different models."
   ]
  },
  {
   "cell_type": "code",
   "execution_count": 5,
   "metadata": {},
   "outputs": [
    {
     "data": {
      "image/png": "[encoded data removed]",
      "text/plain": [
       "<Figure size 864x576 with 1 Axes>"
      ]
     },
     "metadata": {},
     "output_type": "display_data"
    }
   ],
   "source": [
    "# Create bar chart of the number of images per category\n",
    "sns.set_style('whitegrid')\n",
    "sns.countplot(x='category_name',data = df).set_title('Number of images per category')\n",
    "plt.show()"
   ]
  },
  {
   "cell_type": "markdown",
   "metadata": {},
   "source": [
    "## Load Models & Evaluation"
   ]
  },
  {
   "cell_type": "code",
   "execution_count": 6,
   "metadata": {},
   "outputs": [
    {
     "name": "stderr",
     "output_type": "stream",
     "text": [
      "2022-02-26 13:56:07.638361: I tensorflow/core/platform/cpu_feature_guard.cc:151] This TensorFlow binary is optimized with oneAPI Deep Neural Network Library (oneDNN) to use the following CPU instructions in performance-critical operations:  AVX2 FMA\n",
      "To enable them in other operations, rebuild TensorFlow with the appropriate compiler flags.\n"
     ]
    },
    {
     "name": "stdout",
     "output_type": "stream",
     "text": [
      "Found 985 validated image filenames belonging to 2 classes.\n"
     ]
    },
    {
     "data": {
      "text/html": [
       "<div>\n",
       "<style scoped>\n",
       "    .dataframe tbody tr th:only-of-type {\n",
       "        vertical-align: middle;\n",
       "    }\n",
       "\n",
       "    .dataframe tbody tr th {\n",
       "        vertical-align: top;\n",
       "    }\n",
       "\n",
       "    .dataframe thead th {\n",
       "        text-align: right;\n",
       "    }\n",
       "</style>\n",
       "<table border=\"1\" class=\"dataframe\">\n",
       "  <thead>\n",
       "    <tr style=\"text-align: right;\">\n",
       "      <th></th>\n",
       "      <th>model_name</th>\n",
       "      <th>y_true</th>\n",
       "      <th>y_pred</th>\n",
       "    </tr>\n",
       "  </thead>\n",
       "  <tbody>\n",
       "    <tr>\n",
       "      <th>0</th>\n",
       "      <td>base_line_catsVSdogs_20epoch.h5</td>\n",
       "      <td>[0, 1, 0, 1, 1, 0, 1, 1, 0, 1, 0, 0, 1, 1, 0, ...</td>\n",
       "      <td>[1.0, 1.0, 0.0, 0.0, 1.0, 0.0, 0.0, 1.0, 1.0, ...</td>\n",
       "    </tr>\n",
       "    <tr>\n",
       "      <th>1</th>\n",
       "      <td>4-conv-64-nodes-20220219112148.h5</td>\n",
       "      <td>[0, 1, 0, 1, 1, 0, 1, 1, 0, 1, 0, 0, 1, 1, 0, ...</td>\n",
       "      <td>[1.0, 1.0, 1.0, 1.0, 1.0, 0.0, 0.0, 1.0, 1.0, ...</td>\n",
       "    </tr>\n",
       "    <tr>\n",
       "      <th>2</th>\n",
       "      <td>4-conv-128-nodes-20220219112148.h5</td>\n",
       "      <td>[0, 1, 0, 1, 1, 0, 1, 1, 0, 1, 0, 0, 1, 1, 0, ...</td>\n",
       "      <td>[0.0, 0.0, 0.0, 0.0, 0.0, 0.0, 0.0, 0.0, 0.0, ...</td>\n",
       "    </tr>\n",
       "    <tr>\n",
       "      <th>3</th>\n",
       "      <td>resnet_model-2.h5</td>\n",
       "      <td>[0, 1, 0, 1, 1, 0, 1, 1, 0, 1, 0, 0, 1, 1, 0, ...</td>\n",
       "      <td>[0.0, 0.0, 0.0, 0.0, 0.0, 0.0, 0.0, 0.0, 0.0, ...</td>\n",
       "    </tr>\n",
       "  </tbody>\n",
       "</table>\n",
       "</div>"
      ],
      "text/plain": [
       "                           model_name  \\\n",
       "0     base_line_catsVSdogs_20epoch.h5   \n",
       "1   4-conv-64-nodes-20220219112148.h5   \n",
       "2  4-conv-128-nodes-20220219112148.h5   \n",
       "3                   resnet_model-2.h5   \n",
       "\n",
       "                                              y_true  \\\n",
       "0  [0, 1, 0, 1, 1, 0, 1, 1, 0, 1, 0, 0, 1, 1, 0, ...   \n",
       "1  [0, 1, 0, 1, 1, 0, 1, 1, 0, 1, 0, 0, 1, 1, 0, ...   \n",
       "2  [0, 1, 0, 1, 1, 0, 1, 1, 0, 1, 0, 0, 1, 1, 0, ...   \n",
       "3  [0, 1, 0, 1, 1, 0, 1, 1, 0, 1, 0, 0, 1, 1, 0, ...   \n",
       "\n",
       "                                              y_pred  \n",
       "0  [1.0, 1.0, 0.0, 0.0, 1.0, 0.0, 0.0, 1.0, 1.0, ...  \n",
       "1  [1.0, 1.0, 1.0, 1.0, 1.0, 0.0, 0.0, 1.0, 1.0, ...  \n",
       "2  [0.0, 0.0, 0.0, 0.0, 0.0, 0.0, 0.0, 0.0, 0.0, ...  \n",
       "3  [0.0, 0.0, 0.0, 0.0, 0.0, 0.0, 0.0, 0.0, 0.0, ...  "
      ]
     },
     "execution_count": 6,
     "metadata": {},
     "output_type": "execute_result"
    }
   ],
   "source": [
    "# Load models\n",
    "def load_model(model_name):\n",
    "    return tf.keras.models.load_model(model_name)\n",
    "    #return model_name\n",
    "\n",
    "## Get model names\n",
    "path = Path('./models/')\n",
    "models = {model.name:load_model(model) for model in list(path.glob('*.h5'))}\n",
    "\n",
    "# Setup data generator\n",
    "Image_Width = 128\n",
    "Image_Height = 128\n",
    "Image_Size = (Image_Width,Image_Height)\n",
    "Image_Channels = 3\n",
    "batch_size = 15\n",
    "\n",
    "# Create generator for validation data\n",
    "validation_datagen = ImageDataGenerator(rescale=1./255)\n",
    "validation_generator = validation_datagen.flow_from_dataframe(\n",
    "    dataframe = df, \n",
    "    x_col='path_to_file',\n",
    "    y_col='category',\n",
    "    target_size = Image_Size,\n",
    "    class_mode = 'binary',\n",
    "    batch_size = batch_size\n",
    ")\n",
    "\n",
    "# Generate list of labels\n",
    "labels_test = validation_generator.labels\n",
    "\n",
    "## Create a dataframe of the ground truth and predictions\n",
    "predictions = pd.DataFrame()\n",
    "predictions = (\n",
    "    predictions\n",
    "        .assign(model_name = [model for model in models.keys()]) # Create a new column for the model name\n",
    "        .assign(y_true = [labels_test for i in range(len(models))]) # Create a new column for the ground truth, always the same value\n",
    "        .assign(y_pred = lambda column: \n",
    "            column.model_name.apply(lambda model: np.around(models[model].predict(validation_generator)).flatten())\n",
    "        ) # Create a new column for the predictions\n",
    "    )\n",
    "\n",
    "predictions.head()"
   ]
  },
  {
   "cell_type": "code",
   "execution_count": 7,
   "metadata": {},
   "outputs": [
    {
     "name": "stdout",
     "output_type": "stream",
     "text": [
      "base_line_catsVSdogs_20epoch.h5\n",
      "Length of y_true:  985\n",
      "Length of y_pred:  985\n",
      "**************************\n",
      "4-conv-64-nodes-20220219112148.h5\n",
      "Length of y_true:  985\n",
      "Length of y_pred:  985\n",
      "**************************\n",
      "4-conv-128-nodes-20220219112148.h5\n",
      "Length of y_true:  985\n",
      "Length of y_pred:  985\n",
      "**************************\n",
      "resnet_model-2.h5\n",
      "Number of y_true and y_pred do not match\n",
      "Length of y_true:  985\n",
      "Length of y_pred:  2017280\n",
      "**************************\n"
     ]
    }
   ],
   "source": [
    "# Check the length of the predictions vs. the ground truth\n",
    "for index, row in predictions.iterrows():\n",
    "    print(row.model_name)\n",
    "    if len(row.y_true) == len(row.y_pred): \n",
    "        print('Length of y_true: ',len(row.y_true))\n",
    "        print('Length of y_pred: ',len(row.y_pred))\n",
    "        print('**************************')\n",
    "    else:\n",
    "        print('Number of y_true and y_pred do not match')\n",
    "        print('Length of y_true: ',len(row.y_true))\n",
    "        print('Length of y_pred: ',len(row.y_pred))\n",
    "        print('**************************')"
   ]
  },
  {
   "cell_type": "code",
   "execution_count": 9,
   "metadata": {},
   "outputs": [
    {
     "name": "stdout",
     "output_type": "stream",
     "text": [
      "**************************************************\n",
      "base_line_catsVSdogs_20epoch.h5\n",
      "model_0 loaded\n",
      "model_0 predicted\n",
      "**************************************************\n",
      "4-conv-64-nodes-20220219112148.h5\n",
      "model_1 loaded\n",
      "model_1 predicted\n",
      "**************************************************\n",
      "4-conv-128-nodes-20220219112148.h5\n",
      "model_2 loaded\n",
      "model_2 predicted\n",
      "**************************************************\n",
      "resnet_model-2.h5\n",
      "model_3 loaded\n",
      "model_3 predicted\n"
     ]
    },
    {
     "data": {
      "image/png": "[encoded data removed]",
      "text/plain": [
       "<Figure size 864x576 with 1 Axes>"
      ]
     },
     "metadata": {},
     "output_type": "display_data"
    },
    {
     "data": {
      "image/png": "[encoded data removed]",
      "text/plain": [
       "<Figure size 864x576 with 1 Axes>"
      ]
     },
     "metadata": {},
     "output_type": "display_data"
    },
    {
     "data": {
      "image/png": "[encoded data removed]",
      "text/plain": [
       "<Figure size 864x576 with 1 Axes>"
      ]
     },
     "metadata": {},
     "output_type": "display_data"
    }
   ],
   "source": [
    "########### Alternative method ###########\n",
    "\n",
    "# Alternative approach to create predictions\n",
    "for n, model in enumerate(models):\n",
    "    print('*'*50)\n",
    "    print(model)\n",
    "    exec(f'model_{n} = models[model]')\n",
    "    print(f'model_{n} loaded')\n",
    "    exec(f'prediction_{n} = np.around(model_{n}.predict(validation_generator)).flatten()')\n",
    "    print(f'model_{n} predicted')  \n",
    "\n",
    "for prediction in [prediction_0, prediction_1, prediction_2]:\n",
    "    matrix_confusion = confusion_matrix(labels_test, prediction)\n",
    "    sns.heatmap(matrix_confusion, annot=True, fmt='d', cmap='Blues', cbar=False).set_title(f'Confusion Matrix')\n",
    "    plt.show()"
   ]
  },
  {
   "cell_type": "markdown",
   "metadata": {},
   "source": [
    "## Conclusions\n",
    "# Learnings\n"
   ]
  },
  {
   "cell_type": "code",
   "execution_count": null,
   "metadata": {},
   "outputs": [],
   "source": []
  }
 ],
 "metadata": {
  "interpreter": {
   "hash": "aef453b458c4ab5fa2ea65720376374b723672e2e6d783b41bc3ee1eca6104f5"
  },
  "kernelspec": {
   "display_name": "Python 3.8.12 ('vision')",
   "language": "python",
   "name": "python3"
  },
  "language_info": {
   "codemirror_mode": {
    "name": "ipython",
    "version": 3
   },
   "file_extension": ".py",
   "mimetype": "text/x-python",
   "name": "python",
   "nbconvert_exporter": "python",
   "pygments_lexer": "ipython3",
   "version": "3.8.12"
  },
  "orig_nbformat": 4
 },
 "nbformat": 4,
 "nbformat_minor": 2
}
